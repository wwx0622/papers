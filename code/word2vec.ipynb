{
 "cells": [
  {
   "cell_type": "markdown",
   "metadata": {},
   "source": [
    "# word2vec 模型核心代码"
   ]
  },
  {
   "cell_type": "code",
   "execution_count": 1,
   "metadata": {},
   "outputs": [],
   "source": [
    "import torch\n",
    "from torch import nn\n",
    "from torch.nn import functional as F\n",
    "class word2vec(nn.Module):\n",
    "    def __init__(self, embedding_size, embedding_dim):\n",
    "        super(word2vec, self).__init__()\n",
    "        self.embedding_size = embedding_size\n",
    "        self.embedding_dim = embedding_dim\n",
    "        self.embedding_u = nn.Embedding(embedding_size, embedding_dim)\n",
    "        self.embedding_v = nn.Embedding(embedding_size, embedding_dim)\n",
    "        self.init_weight()\n",
    "    \n",
    "    def init_weight(self):\n",
    "        initrange = 0.5 / self.embedding_dim\n",
    "        self.embedding_u.weight.data.uniform_(-initrange, initrange)\n",
    "        self.embedding_v.weight.data.uniform_(-0, 0)\n",
    "\n",
    "    def forward(self, pos_u, pos_v, neg_v):\n",
    "        emb_u = self.embedding_u(pos_u)\n",
    "        emb_v = self.embedding_v(pos_v)\n",
    "        score = torch.mul(emb_u, emb_v).squeeze()\n",
    "        score = torch.sum(score, dim=1)\n",
    "        score = F.logsigmoid(score)\n",
    "        neg_emb_v = self.embedding_v(neg_v)\n",
    "        neg_score = torch.bmm(neg_emb_v, emb_u.unsqueeze(2)).squeeze()\n",
    "        neg_score = F.logsigmoid(-1 * neg_score)\n",
    "        return -1 * (torch.sum(score)+torch.sum(neg_score))"
   ]
  }
 ],
 "metadata": {
  "interpreter": {
   "hash": "71d78f583c82454cb6a97ec020d1d3c56543d5bb105bdfac6566bd165456759f"
  },
  "kernelspec": {
   "display_name": "Python 3.8.12 ('ML')",
   "language": "python",
   "name": "python3"
  },
  "language_info": {
   "codemirror_mode": {
    "name": "ipython",
    "version": 3
   },
   "file_extension": ".py",
   "mimetype": "text/x-python",
   "name": "python",
   "nbconvert_exporter": "python",
   "pygments_lexer": "ipython3",
   "version": "3.8.12"
  },
  "orig_nbformat": 4
 },
 "nbformat": 4,
 "nbformat_minor": 2
}
